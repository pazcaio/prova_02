{
 "cells": [
  {
   "cell_type": "code",
   "execution_count": 1,
   "id": "296b84df-87b7-4b94-a13b-474225e2b606",
   "metadata": {},
   "outputs": [],
   "source": [
    "consumo_diario = [50, 45, 55 , 60, 48, 52 ,47 , 49, 53, 51, 50, 46, 54, 61, 49, 53, 48, 50, 52, 47, 56, 50, 55, 60, 48, 52, 47, 49, 53, 51]"
   ]
  },
  {
   "cell_type": "code",
   "execution_count": 2,
   "id": "58d8f107-8a33-43a3-b1b1-2472b9faa6ac",
   "metadata": {},
   "outputs": [],
   "source": [
    "def consumo(consumo_diario):\n",
    "    media = sum(consumo_diario) / len(consumo_diario)\n",
    "    return media"
   ]
  },
  {
   "cell_type": "code",
   "execution_count": 4,
   "id": "5ce260e6-f56d-4e7f-a138-d614fe67d4cd",
   "metadata": {},
   "outputs": [
    {
     "name": "stdout",
     "output_type": "stream",
     "text": [
      "O consumo diário médio foi: 51.36666666666667\n"
     ]
    }
   ],
   "source": [
    "print(f\"O consumo diário médio foi: {consumo(consumo_diario)}\")"
   ]
  },
  {
   "cell_type": "code",
   "execution_count": null,
   "id": "dfcfc899-8794-4f6d-b69c-5bece380a3d1",
   "metadata": {},
   "outputs": [],
   "source": []
  }
 ],
 "metadata": {
  "kernelspec": {
   "display_name": "Python 3 (ipykernel)",
   "language": "python",
   "name": "python3"
  },
  "language_info": {
   "codemirror_mode": {
    "name": "ipython",
    "version": 3
   },
   "file_extension": ".py",
   "mimetype": "text/x-python",
   "name": "python",
   "nbconvert_exporter": "python",
   "pygments_lexer": "ipython3",
   "version": "3.13.0"
  }
 },
 "nbformat": 4,
 "nbformat_minor": 5
}
